{
 "cells": [
  {
   "cell_type": "markdown",
   "metadata": {},
   "source": [
    "# orchid and apple picking algo"
   ]
  },
  {
   "cell_type": "code",
   "execution_count": 125,
   "metadata": {},
   "outputs": [],
   "source": [
    "#  find A and B's best choice to have two consecutive picking of apple trees that maximize total apples\n",
    "import timeit\n",
    "\n",
    "\n",
    "\n",
    "def maxApple(A,K,L):\n",
    "#     input: A list of positive integers\n",
    "#              K, and L are positive integers\n",
    "#     output: number of max apples\n",
    "    isLen = (K+L) <=len(A) \n",
    "    if isLen:\n",
    "        \n",
    "        res = 0\n",
    "        for i in range(len(A)-K+1):\n",
    "            max_now = 0\n",
    "            for j in range(K):\n",
    "                max_now = max_now + A[i+j]\n",
    "                if max_now > res:\n",
    "                    res = max_now\n",
    "                    index = i\n",
    "        del A[index:index+K]\n",
    "        \n",
    "        res2 = 0\n",
    "        for i in range(len(A)-L+1):\n",
    "            max_now = 0\n",
    "            for j in range(L):\n",
    "                max_now = max_now + A[i+j]\n",
    "                if max_now > res2:\n",
    "                    res2 = max_now\n",
    "                    \n",
    "        \n",
    "        \n",
    "        return res+res2\n",
    "    else:\n",
    "        return(-1)\n",
    "\n",
    "\n",
    "test1 =[[6,1,4,6,3,2,7,4],3,2]\n",
    "test2 =[[6,1,4,6,3,2,7,4],4,5]\n",
    "\n",
    "def testFun(test):\n",
    "    A,K,L = test[0],test[1],test[2]\n",
    "    res = maxApple(A,K,L)\n",
    "    return res\n",
    "start = timeit.timeit()\n",
    "testFun(test2)  \n",
    "T = (start-timeit.timeit())*1000"
   ]
  },
  {
   "cell_type": "code",
   "execution_count": 126,
   "metadata": {},
   "outputs": [
    {
     "data": {
      "text/plain": [
       "(24, 0.16714058427069745)"
      ]
     },
     "execution_count": 126,
     "metadata": {},
     "output_type": "execute_result"
    }
   ],
   "source": [
    "max, T"
   ]
  },
  {
   "cell_type": "code",
   "execution_count": null,
   "metadata": {},
   "outputs": [],
   "source": []
  },
  {
   "cell_type": "code",
   "execution_count": null,
   "metadata": {},
   "outputs": [],
   "source": []
  }
 ],
 "metadata": {
  "kernelspec": {
   "display_name": "Python 3",
   "language": "python",
   "name": "python3"
  },
  "language_info": {
   "codemirror_mode": {
    "name": "ipython",
    "version": 3
   },
   "file_extension": ".py",
   "mimetype": "text/x-python",
   "name": "python",
   "nbconvert_exporter": "python",
   "pygments_lexer": "ipython3",
   "version": "3.6.5"
  }
 },
 "nbformat": 4,
 "nbformat_minor": 2
}
